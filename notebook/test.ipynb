{
 "cells": [
  {
   "cell_type": "code",
   "execution_count": 1,
   "metadata": {},
   "outputs": [],
   "source": [
    "import gdown"
   ]
  },
  {
   "cell_type": "code",
   "execution_count": 2,
   "metadata": {},
   "outputs": [],
   "source": [
    "url = \"https://drive.google.com/file/d/177Cu3-Ae2Rv3SUsrbWOdfu8fW-W7a7SZ/view?usp=sharing\""
   ]
  },
  {
   "cell_type": "code",
   "execution_count": 3,
   "metadata": {},
   "outputs": [
    {
     "data": {
      "text/plain": [
       "'177Cu3-Ae2Rv3SUsrbWOdfu8fW-W7a7SZ'"
      ]
     },
     "execution_count": 3,
     "metadata": {},
     "output_type": "execute_result"
    }
   ],
   "source": [
    "file = url.split('/')[-2]\n",
    "file\n"
   ]
  },
  {
   "cell_type": "code",
   "execution_count": 4,
   "metadata": {},
   "outputs": [
    {
     "name": "stderr",
     "output_type": "stream",
     "text": [
      "Downloading...\n",
      "From (original): https://drive.google.com/uc?export=download&id=177Cu3-Ae2Rv3SUsrbWOdfu8fW-W7a7SZ\n",
      "From (redirected): https://drive.google.com/uc?export=download&id=177Cu3-Ae2Rv3SUsrbWOdfu8fW-W7a7SZ&confirm=t&uuid=d4cf0295-e470-479e-9d83-f3402b2762fd\n",
      "To: c:\\Users\\user\\Desktop\\Sign-Object-Detection-E2E\\notebook\\image.zip\n",
      "100%|██████████| 53.6M/53.6M [00:47<00:00, 1.13MB/s]\n"
     ]
    },
    {
     "data": {
      "text/plain": [
       "'image.zip'"
      ]
     },
     "execution_count": 4,
     "metadata": {},
     "output_type": "execute_result"
    }
   ],
   "source": [
    "prefix = \"https://drive.google.com/uc?export=download&id=\"\n",
    "gdown.download(prefix+file, 'image.zip')"
   ]
  },
  {
   "cell_type": "code",
   "execution_count": null,
   "metadata": {},
   "outputs": [],
   "source": []
  }
 ],
 "metadata": {
  "kernelspec": {
   "display_name": "signLang",
   "language": "python",
   "name": "python3"
  },
  "language_info": {
   "codemirror_mode": {
    "name": "ipython",
    "version": 3
   },
   "file_extension": ".py",
   "mimetype": "text/x-python",
   "name": "python",
   "nbconvert_exporter": "python",
   "pygments_lexer": "ipython3",
   "version": "3.7.16"
  }
 },
 "nbformat": 4,
 "nbformat_minor": 2
}
